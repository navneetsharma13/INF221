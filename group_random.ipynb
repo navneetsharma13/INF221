{
 "cells": [
  {
   "cell_type": "code",
   "execution_count": 1,
   "metadata": {},
   "outputs": [],
   "source": [
    "import random\n",
    "from itertools import combinations"
   ]
  },
  {
   "cell_type": "code",
   "execution_count": 3,
   "metadata": {},
   "outputs": [],
   "source": [
    "def create_groups(students, min_group_size=3, max_group_size=4, rounds=2):\n",
    "    total_students = len(students)\n",
    "    all_pairs = set()  # Track pairs that have worked together\n",
    "    groups_per_round = []\n",
    "\n",
    "    for r in range(rounds):\n",
    "        random.shuffle(students)  # Shuffle students before each round\n",
    "        groups = []\n",
    "        used = set()  # Track assigned students in this round\n",
    "        \n",
    "        i = 0\n",
    "        while i < total_students:\n",
    "            group_size = random.randint(min_group_size, max_group_size)\n",
    "            \n",
    "\n",
    "            if total_students - i <= min_group_size:\n",
    "                group_size = total_students - i\n",
    "            \n",
    "            new_group = []\n",
    "            while len(new_group) < group_size:\n",
    "                for student in students:\n",
    "                    if student not in used:\n",
    "                        new_group.append(student)\n",
    "                        used.add(student)\n",
    "                    if len(new_group) == group_size:\n",
    "                        break\n",
    "            \n",
    "            groups.append(new_group)\n",
    "            all_pairs.update(combinations(new_group, 2))  # Store pairs\n",
    "            \n",
    "            i += group_size\n",
    "        \n",
    "        groups_per_round.append(groups)\n",
    "        print(f\"\\n🔄 **Round {r+1} (New 45-minute session)** 🔄\")\n",
    "        for idx, group in enumerate(groups, 1):\n",
    "            print(f\"Group {idx}: {', '.join(group)}\")\n",
    "\n",
    "    return groups_per_round"
   ]
  },
  {
   "cell_type": "code",
   "execution_count": 4,
   "metadata": {},
   "outputs": [
    {
     "name": "stdout",
     "output_type": "stream",
     "text": [
      "\n",
      "🔄 **Round 1 (New 45-minute session)** 🔄\n",
      "Group 1: Student 3, Student 6, Student 1, Student 2\n",
      "Group 2: Student 7, Student 5, Student 4\n",
      "\n",
      "🔄 **Round 2 (New 45-minute session)** 🔄\n",
      "Group 1: Student 4, Student 7, Student 1\n",
      "Group 2: Student 6, Student 5, Student 3\n",
      "Group 3: Student 2\n",
      "\n",
      "🔄 **Round 3 (New 45-minute session)** 🔄\n",
      "Group 1: Student 1, Student 5, Student 2\n",
      "Group 2: Student 7, Student 6, Student 3\n",
      "Group 3: Student 4\n"
     ]
    }
   ],
   "source": [
    "students = [f\"Student {i+1}\" for i in range(7)]  # List of 30 students\n",
    "rounds = 3  # Number of 45-minute rounds\n",
    "\n",
    "all_rounds = create_groups(students, rounds=rounds)"
   ]
  }
 ],
 "metadata": {
  "kernelspec": {
   "display_name": "Python 3",
   "language": "python",
   "name": "python3"
  },
  "language_info": {
   "codemirror_mode": {
    "name": "ipython",
    "version": 3
   },
   "file_extension": ".py",
   "mimetype": "text/x-python",
   "name": "python",
   "nbconvert_exporter": "python",
   "pygments_lexer": "ipython3",
   "version": "3.12.5"
  }
 },
 "nbformat": 4,
 "nbformat_minor": 2
}
